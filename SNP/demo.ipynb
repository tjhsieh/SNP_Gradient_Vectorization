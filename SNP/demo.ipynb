{
 "cells": [
  {
   "cell_type": "code",
   "execution_count": null,
   "metadata": {},
   "outputs": [],
   "source": [
    "import argparse\n",
    "\n",
    "import torch\n",
    "torch.cuda.current_device()\n",
    "import torch.optim as optim\n",
    "\n",
    "from painter import *\n",
    "# Decide which device we want to run on\n",
    "device = torch.device(\"cuda:0\" if torch.cuda.is_available() else \"cpu\")"
   ]
  },
  {
   "cell_type": "code",
   "execution_count": null,
   "metadata": {},
   "outputs": [],
   "source": [
    "# settings\n",
    "parser = argparse.ArgumentParser(description='STYLIZED NEURAL PAINTING')\n",
    "args = parser.parse_args(args=[])\n",
    "args.img_path = './test_image/sunflowers.jpg' # path to input photo\n",
    "args.renderer = 'oilpaintbrush' # [watercolor, markerpen, oilpaintbrush, rectangle]\n",
    "args.canvas_color = 'white' # [black, white]\n",
    "args.canvas_size = 512 # size of the canvas for stroke rendering'\n",
    "args.keep_aspect_ratio = False # whether to keep input aspect ratio when saving outputs\n",
    "args.max_m_strokes = 500 # max number of strokes\n",
    "args.m_grid = 5 # divide an image to m_grid x m_grid patches\n",
    "args.beta_L1 = 1.0 # weight for L1 loss\n",
    "args.with_ot_loss = False # set True for imporving the convergence by using optimal transportation loss, but will slow-down the speed\n",
    "args.beta_ot = 0.1 # weight for optimal transportation loss\n",
    "args.net_G = 'zou-fusion-net' # renderer architecture\n",
    "args.renderer_checkpoint_dir = './checkpoints_G_oilpaintbrush' # dir to load the pretrained neu-renderer\n",
    "args.lr = 0.005 # learning rate for stroke searching\n",
    "args.output_dir = './output' # dir to save painting results\n",
    "args.disable_preview = True # disable cv2.imshow, for running remotely without x-display"
   ]
  },
  {
   "cell_type": "code",
   "execution_count": null,
   "metadata": {},
   "outputs": [],
   "source": [
    "# download and unzip...\n",
    "! gdown \"https://drive.google.com/u/0/uc?id=1sqWhgBKqaBJggl2A8sD1bLSq2_B1ScMG&export=download\""
   ]
  },
  {
   "cell_type": "code",
   "execution_count": null,
   "metadata": {},
   "outputs": [],
   "source": [
    "!unzip checkpoints_G_oilpaintbrush.zip"
   ]
  },
  {
   "cell_type": "code",
   "execution_count": null,
   "metadata": {},
   "outputs": [],
   "source": [
    "def optimize_x(pt):\n",
    "\n",
    "    pt._load_checkpoint()\n",
    "    pt.net_G.eval()\n",
    "\n",
    "    pt.initialize_params()\n",
    "    pt.x_ctt.requires_grad = True\n",
    "    pt.x_color.requires_grad = True\n",
    "    pt.x_alpha.requires_grad = True\n",
    "    utils.set_requires_grad(pt.net_G, False)\n",
    "\n",
    "    pt.optimizer_x = optim.RMSprop([pt.x_ctt, pt.x_color, pt.x_alpha], lr=pt.lr)\n",
    "\n",
    "    print('begin to draw...')\n",
    "    pt.step_id = 0\n",
    "    for pt.anchor_id in range(0, pt.m_strokes_per_block):\n",
    "        pt.stroke_sampler(pt.anchor_id)\n",
    "        iters_per_stroke = int(500 / pt.m_strokes_per_block)\n",
    "        for i in range(iters_per_stroke):\n",
    "\n",
    "            pt.optimizer_x.zero_grad()\n",
    "\n",
    "            pt.x_ctt.data = torch.clamp(pt.x_ctt.data, 0.1, 1 - 0.1)\n",
    "            pt.x_color.data = torch.clamp(pt.x_color.data, 0, 1)\n",
    "            pt.x_alpha.data = torch.clamp(pt.x_alpha.data, 0, 1)\n",
    "\n",
    "            if args.canvas_color == 'white':\n",
    "                pt.G_pred_canvas = torch.ones(\n",
    "                    [args.m_grid ** 2, 3, pt.net_G.out_size, pt.net_G.out_size]).to(device)\n",
    "            else:\n",
    "                pt.G_pred_canvas = torch.zeros(\n",
    "                    [args.m_grid ** 2, 3, pt.net_G.out_size, pt.net_G.out_size]).to(device)\n",
    "\n",
    "            pt._forward_pass()\n",
    "            pt._drawing_step_states()\n",
    "            pt._backward_x()\n",
    "            pt.optimizer_x.step()\n",
    "\n",
    "            pt.x_ctt.data = torch.clamp(pt.x_ctt.data, 0.1, 1 - 0.1)\n",
    "            pt.x_color.data = torch.clamp(pt.x_color.data, 0, 1)\n",
    "            pt.x_alpha.data = torch.clamp(pt.x_alpha.data, 0, 1)\n",
    "\n",
    "            pt.step_id += 1\n",
    "\n",
    "    v = pt.x.detach().cpu().numpy()\n",
    "    pt._save_stroke_params(v)\n",
    "    v_n = pt._normalize_strokes(pt.x)\n",
    "    v_n = pt._shuffle_strokes_and_reshape(v_n)\n",
    "    final_rendered_image = pt._render(v_n, save_jpgs=True, save_video=True)\n",
    "    \n",
    "    return final_rendered_image"
   ]
  },
  {
   "cell_type": "code",
   "execution_count": null,
   "metadata": {},
   "outputs": [],
   "source": [
    "pt = Painter(args=args)\n",
    "final_rendered_image = optimize_x(pt)"
   ]
  }
 ],
 "metadata": {
  "kernelspec": {
   "display_name": "deepsvg",
   "language": "python",
   "name": "python3"
  },
  "language_info": {
   "codemirror_mode": {
    "name": "ipython",
    "version": 3
   },
   "file_extension": ".py",
   "mimetype": "text/x-python",
   "name": "python",
   "nbconvert_exporter": "python",
   "pygments_lexer": "ipython3",
   "version": "3.7.11"
  },
  "orig_nbformat": 4
 },
 "nbformat": 4,
 "nbformat_minor": 2
}
