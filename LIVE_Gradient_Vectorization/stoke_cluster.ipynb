{
 "cells": [
  {
   "cell_type": "code",
   "execution_count": 2,
   "metadata": {},
   "outputs": [],
   "source": [
    "import json\n",
    "import os\n",
    "import PIL.Image\n",
    "import torch\n",
    "import numpy as np\n",
    "from sklearn.cluster import KMeans\n",
    "\n",
    "use_gpu = torch.cuda.is_available()\n",
    "device = torch.device('cuda') if use_gpu else torch.device('cpu')"
   ]
  },
  {
   "cell_type": "code",
   "execution_count": 3,
   "metadata": {},
   "outputs": [],
   "source": [
    "# calculate stroke size ratio and store json record\n",
    "stroke_direct = \"resource/flower/single_strokes/\"\n",
    "allFileList = os.listdir(stroke_direct)\n",
    "allFileList.sort()\n",
    "loss_list = []\n",
    "for file in allFileList:\n",
    "    file_path = os.path.join(stroke_direct, file)\n",
    "    gt = np.array(PIL.Image.open(file_path))\n",
    "    if gt.shape[2] == 4:\n",
    "        #print(\"Input image includes alpha channel, simply dropout alpha channel.\")\n",
    "        gt = gt[:, :, :3]\n",
    "\n",
    "    gt = (gt/255).astype(np.float32)\n",
    "    gt = torch.FloatTensor(gt).permute(2, 0, 1)[None].to(device)\n",
    "    gt = gt.detach().cpu().numpy()\n",
    "\n",
    "    h, w = gt.shape[2:]\n",
    "    para_bg = torch.tensor([1., 1., 1.], requires_grad=False, device=device)\n",
    "    pred = para_bg.view(1, -1, 1, 1).repeat(1, 1, h, w)\n",
    "    pred = pred.detach().cpu().numpy()\n",
    "\n",
    "    map = ((pred[0] - gt[0])**2).sum(0)\n",
    "    pixel_num = w*h\n",
    "    zero_count = len(map[map==0.0])\n",
    "    ratio = zero_count / pixel_num\n",
    "    loss_list.append(\"{:.4f}\".format(ratio))\n",
    "\n",
    "results = {\n",
    "    'size': loss_list,\n",
    "}\n",
    "\n",
    "with open(f'./stroke_size.json', 'w') as writer:\n",
    "    json.dump(results, writer, indent=4)"
   ]
  },
  {
   "cell_type": "code",
   "execution_count": 4,
   "metadata": {},
   "outputs": [
    {
     "name": "stdout",
     "output_type": "stream",
     "text": [
      "(495, 1)\n"
     ]
    }
   ],
   "source": [
    "f = open('./stroke_size.json')\n",
    "data = json.load(f)\n",
    "loss = np.array(data['size'])\n",
    "loss = (loss.reshape(-1, 1)).astype(np.float32)\n",
    "print(loss.shape)"
   ]
  },
  {
   "cell_type": "code",
   "execution_count": 5,
   "metadata": {},
   "outputs": [
    {
     "name": "stderr",
     "output_type": "stream",
     "text": [
      "c:\\Users\\cg\\anaconda3\\envs\\test\\lib\\site-packages\\sklearn\\cluster\\_kmeans.py:1412: FutureWarning: The default value of `n_init` will change from 10 to 'auto' in 1.4. Set the value of `n_init` explicitly to suppress the warning\n",
      "  super()._check_params_vs_input(X, default_n_init=10)\n",
      "c:\\Users\\cg\\anaconda3\\envs\\test\\lib\\site-packages\\sklearn\\cluster\\_kmeans.py:1436: UserWarning: KMeans is known to have a memory leak on Windows with MKL, when there are less chunks than available threads. You can avoid it by setting the environment variable OMP_NUM_THREADS=2.\n",
      "  warnings.warn(\n"
     ]
    }
   ],
   "source": [
    "kmeans = KMeans(n_clusters=3)\n",
    "kmeans.fit(loss)\n",
    "labels = kmeans.labels_\n",
    "centers = kmeans.cluster_centers_"
   ]
  },
  {
   "cell_type": "code",
   "execution_count": 7,
   "metadata": {},
   "outputs": [
    {
     "data": {
      "image/png": "[encoded data removed]",
      "text/plain": [
       "<Figure size 640x480 with 1 Axes>"
      ]
     },
     "metadata": {},
     "output_type": "display_data"
    }
   ],
   "source": [
    "import matplotlib.pyplot as plt\n",
    "plt.hist(loss[labels == 0], bins=20, color='red', alpha=0.7)  # 繪製屬於cluster 0的數據的直方圖\n",
    "plt.hist(loss[labels == 1], bins=20, color='green', alpha=0.7)  # 繪製屬於cluster 1的數據的直方圖\n",
    "plt.hist(loss[labels == 2], bins=20, color='blue', alpha=0.7)  # 繪製屬於cluster 2的數據的直方圖\n",
    "# plt.hist(loss[labels == 3], bins=20, color='black', alpha=0.7)  # 繪製屬於cluster 1的數據的直方圖\n",
    "# plt.hist(loss[labels == 4], bins=20, color='yellow', alpha=0.7)  # 繪製屬於cluster 2的數據的直方圖\n",
    "\n",
    "\n",
    "plt.xlabel('Data')\n",
    "plt.ylabel('Frequency')\n",
    "plt.title('K-Means Clustering of 1D Data')\n",
    "plt.legend([ 'Cluster 0', 'Cluster 1', 'Cluster 2'])\n",
    "plt.show()"
   ]
  },
  {
   "cell_type": "code",
   "execution_count": 8,
   "metadata": {},
   "outputs": [
    {
     "name": "stdout",
     "output_type": "stream",
     "text": [
      "Cluster 0: Range = [0.9739000201225281, 0.9997000098228455], numbers = 481\n",
      "Cluster 1: Range = [0.6269999742507935, 0.7904000282287598], numbers = 4\n",
      "Cluster 2: Range = [0.8761000037193298, 0.9707000255584717], numbers = 10\n",
      "[[0.99649835]\n",
      " [0.699175  ]\n",
      " [0.94694   ]]\n"
     ]
    }
   ],
   "source": [
    "cluster_ranges = []\n",
    "num = []\n",
    "for i in range(kmeans.n_clusters):\n",
    "    cluster_data = loss[kmeans.labels_ == i]\n",
    "    cluster_min = np.min(cluster_data)\n",
    "    cluster_max = np.max(cluster_data)\n",
    "    cluster_num = len(cluster_data)\n",
    "    cluster_ranges.append((cluster_min, cluster_max,cluster_num))\n",
    "\n",
    "# 輸出結果\n",
    "for i, (min_val, max_val, num)  in enumerate(cluster_ranges):\n",
    "    print(\"Cluster {}: Range = [{}, {}], numbers = {}\".format(i, min_val, max_val, num))\n",
    "\n",
    "print(centers)"
   ]
  },
  {
   "cell_type": "code",
   "execution_count": 9,
   "metadata": {},
   "outputs": [],
   "source": [
    "record = {}\n",
    "record['label'] = labels.tolist()\n",
    "results = record\n",
    "with open(f'stroke_size_clustering_results.json', 'w') as writer:\n",
    "    json.dump(results, writer, indent=4)"
   ]
  }
 ],
 "metadata": {
  "kernelspec": {
   "display_name": "live",
   "language": "python",
   "name": "python3"
  },
  "language_info": {
   "codemirror_mode": {
    "name": "ipython",
    "version": 3
   },
   "file_extension": ".py",
   "mimetype": "text/x-python",
   "name": "python",
   "nbconvert_exporter": "python",
   "pygments_lexer": "ipython3",
   "version": "3.8.17"
  },
  "orig_nbformat": 4
 },
 "nbformat": 4,
 "nbformat_minor": 2
}
