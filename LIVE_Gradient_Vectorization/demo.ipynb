{
 "cells": [
  {
   "cell_type": "code",
   "execution_count": null,
   "metadata": {},
   "outputs": [],
   "source": [
    "# change gcc version to 5.5\n",
    "!apt-get install -qq gcc-5 g++-5 -y\n",
    "!ln -s /usr/bin/gcc-5 /usr/local/cuda/bin/gcc;\n",
    "!ln -s /usr/bin/g++-5 /usr/local/cuda/bin/g++;\n",
    "# !sudo apt-get update\n",
    "# !sudo apt-get upgrade\n",
    "!gcc -v # ensure gcc version is 5.5"
   ]
  },
  {
   "cell_type": "code",
   "execution_count": null,
   "metadata": {},
   "outputs": [],
   "source": [
    "# remove tensorflow for install\n",
    "!pip3 uninstall tensorflow -y\n",
    "# install required libs\n",
    "# !pip install torch==1.9.0+cu111 torchtext==0.10.0 torchvision==0.10.0+cu111 -f https://download.pytorch.org/whl/torch/ -f https://download.pytorch.org/whl/torchvision/\n",
    "# !pip install torch==1.7.0+cu110 torchvision==0.8.1+cu110 -f https://download.pytorch.org/whl/torch_stable.html\n",
    "!pip3 install svgwrite svgpathtools cssutils numba torch-tools scikit-fmm easydict visdom\n",
    "!pip3 install numpy scikit-image ffmpeg opencv-python==4.5.4.60\n",
    "!pip3 install cmake==3.18.2\n",
    "!pip uninstall imgaug -y && pip uninstall albumentations -y && pip install git+https://github.com/aleju/imgaug.git -y\n",
    "!pip3 install -U PyYAML"
   ]
  },
  {
   "cell_type": "code",
   "execution_count": null,
   "metadata": {},
   "outputs": [],
   "source": [
    "# install diffvg\n",
    "%cd DiffVG\n",
    "import torch\n",
    "import os\n",
    "gpu_name = torch.cuda.get_device_name(0)\n",
    "print(gpu_name)\n",
    "if \"K80\" in gpu_name:\n",
    "  replace_str = 's/set(CUDA_NVCC_FLAGS \"\\${CUDA_NVCC_FLAGS} -std=c++11\")/set(CUDA_NVCC_FLAGS \"\\${CUDA_NVCC_FLAGS} -std=c++14 -gencode=arch=compute_37,code=sm_37\")/gi'\n",
    "  replace_str = \"sed -i '\"+replace_str+ \"' CMakeLists.txt\"\n",
    "  os.system(replace_str)\n",
    "  print(\"change cmake for K80\")\n",
    "elif \"T4\" in gpu_name:\n",
    "  replace_str = 's/set(CUDA_NVCC_FLAGS \"\\${CUDA_NVCC_FLAGS} -std=c++11\")/set(CUDA_NVCC_FLAGS \"\\${CUDA_NVCC_FLAGS} -std=c++14 -gencode=arch=compute_75,code=sm_75\")/gi'\n",
    "  replace_str = \"sed -i '\"+replace_str+ \"' CMakeLists.txt\"\n",
    "  os.system(replace_str)\n",
    "  print(\"change cmake for T4\")"
   ]
  },
  {
   "cell_type": "code",
   "execution_count": null,
   "metadata": {},
   "outputs": [],
   "source": [
    "!sudo apt-get install -y libsdl2-image-dev\n",
    "!git submodule update --init --recursive\n",
    "!python3 setup.py install\n",
    "%cd .."
   ]
  },
  {
   "cell_type": "code",
   "execution_count": null,
   "metadata": {},
   "outputs": [],
   "source": [
    "%cd LIVE\n",
    "!python main.py --config config/base.yaml --debug --experiment experiment_5x1 --signature smile --target figures/smile.png --log_dir log/"
   ]
  },
  {
   "cell_type": "code",
   "execution_count": null,
   "metadata": {},
   "outputs": [],
   "source": [
    "! sudo apt-get update\n",
    "\n",
    "! sudo apt-get install python3.7\n",
    "\n",
    "!sudo update-alternatives --install /usr/bin/python3 python3 /usr/bin/python3.7 1\n",
    "!sudo update-alternatives --config python3\n",
    "!python3 --version\n",
    "!sudo apt install python3-pip\n",
    "!sudo apt-get install python3.7-distutils\n",
    "\n",
    "!sudo apt-get install python3-apt\n",
    "!python3.7 setup.py install"
   ]
  }
 ],
 "metadata": {
  "language_info": {
   "name": "python"
  },
  "orig_nbformat": 4
 },
 "nbformat": 4,
 "nbformat_minor": 2
}
